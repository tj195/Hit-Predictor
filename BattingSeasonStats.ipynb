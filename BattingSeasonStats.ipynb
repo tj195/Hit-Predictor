{
  "nbformat": 4,
  "nbformat_minor": 0,
  "metadata": {
    "colab": {
      "name": "Welcome To Colaboratory",
      "provenance": [],
      "collapsed_sections": [],
      "toc_visible": true,
      "include_colab_link": true
    },
    "kernelspec": {
      "display_name": "Python 3",
      "name": "python3"
    }
  },
  "cells": [
    {
      "cell_type": "markdown",
      "metadata": {
        "id": "view-in-github",
        "colab_type": "text"
      },
      "source": [
        "<a href=\"https://colab.research.google.com/github/tj195/Hit-Predictor/blob/main/BattingSeasonStats.ipynb\" target=\"_parent\"><img src=\"https://colab.research.google.com/assets/colab-badge.svg\" alt=\"Open In Colab\"/></a>"
      ]
    },
    {
      "cell_type": "code",
      "metadata": {
        "id": "__TmYAWU9XJM"
      },
      "source": [
        "import pandas as pd\n",
        "import re\n",
        "import requests\n",
        "from bs4 import BeautifulSoup\n",
        "import csv\n",
        "\n",
        "def Headers(soup):\n",
        "  header = soup.find('tr', attrs={'class': 'colhead'})\n",
        "  columns = [col.get_text() for col in header.find_all('td')]\n",
        "  final_df = pd.DataFrame(columns=columns)\n",
        "  return columns\n",
        "\n",
        "def Batters(columns):\n",
        "  final_df = None\n",
        "  for i in range (1,331,50):\n",
        "      url = 'http://www.espn.com/mlb/history/leaders/_/breakdown/season/year/2018/start/{}'.format(i)\n",
        "      page = requests.get(url)\n",
        "      soup = BeautifulSoup(page.text, 'html.parser')\n",
        "      counter = 0\n",
        "      players = soup.find_all('tr', attrs={'class':re.compile('row player-10-')})\n",
        "      \n",
        "      for player in players:\n",
        "          \n",
        "          stats = [stat.get_text() for stat in player.find_all('td')]\n",
        "\n",
        "          temp_df = pd.DataFrame(stats).transpose()\n",
        "          temp_df.columns = columns\n",
        "\n",
        "          final_df = pd.concat([final_df, temp_df], ignore_index=True)\n",
        "  return final_df\n",
        "\n",
        "def IdRemover():\n",
        "  with open(\"output.csv\", \"r\") as source:\n",
        "    reader = csv.reader(source)\n",
        "      \n",
        "    with open(\"mlb_batter_stats.csv\", \"w\") as result:\n",
        "        writer = csv.writer(result)\n",
        "        for r in reader:\n",
        "            del r[0]\n",
        "            writer.writerow(r)\n",
        "\n",
        "if __name__ == \"__main__\":\n",
        "  url = 'http://www.espn.com/mlb/history/leaders/_/breakdown/season/year/2018/start/1'\n",
        "  page = requests.get(url)\n",
        "  soup = BeautifulSoup(page.text, 'html.parser')\n",
        "  column = Headers(soup)\n",
        "  batting_Stats = Batters(column)\n",
        "  batting_Stats.to_csv(\"output.csv\", index=False, sep=',', encoding='utf-8')\n",
        "  IdRemover()"
      ],
      "execution_count": 35,
      "outputs": []
    },
    {
      "cell_type": "code",
      "metadata": {
        "id": "X0_LUPRiUQ_9"
      },
      "source": [
        "\n",
        "# import csv\n",
        "import csv\n",
        "  \n",
        "# open input CSV file as source\n",
        "# open output CSV file as result\n",
        "with open(\"mlb_batter_stats.csv\", \"r\") as source:\n",
        "    reader = csv.reader(source)\n",
        "      \n",
        "    with open(\"output.csv\", \"w\") as result:\n",
        "        writer = csv.writer(result)\n",
        "        for r in reader:\n",
        "            del r[0]\n",
        "            writer.writerow(r)"
      ],
      "execution_count": 29,
      "outputs": []
    }
  ]
}